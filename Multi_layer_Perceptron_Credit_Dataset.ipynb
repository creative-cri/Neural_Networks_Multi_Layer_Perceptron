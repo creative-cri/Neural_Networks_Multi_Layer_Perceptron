{
  "nbformat": 4,
  "nbformat_minor": 0,
  "metadata": {
    "colab": {
      "name": "Kopie von Homework Multi-layer Perceptron Credit Dataset.ipynb",
      "provenance": [],
      "collapsed_sections": []
    },
    "kernelspec": {
      "name": "python3",
      "display_name": "Python 3"
    }
  },
  "cells": [
    {
      "cell_type": "markdown",
      "metadata": {
        "id": "HIdhT6gdtGK5"
      },
      "source": [
        "# Homework: Multi-layer perceptron credit dataset\n",
        "\n",
        "Homework instructions:\n",
        "\n",
        "Here is the Practical Activity for this Part 2 of the course:\n",
        "\n",
        "Use the credit_data.csv attached to this class in order to classify whether or not a person will pay the loan\n",
        "\n",
        "Hints:\n",
        "\n",
        "Upload the .csv file into the Google Colab environment\n",
        "\n",
        "Use the pandas library in order to load the csv file - check the read_csv function\n",
        "\n",
        "The inputs of neuron network are: income, age and loan\n",
        "\n",
        "It's a binary classification problem, class 0 (not paid) and class 1 (paid)\n",
        "\n",
        "There are some missing values in this dataset, so you need to handle then - check the dropna() function\n",
        "\n",
        "You need to normalize the data, check the MinMaxScaler from sklearn\n",
        "\n",
        "\n",
        "\n",
        "\n"
      ]
    },
    {
      "cell_type": "markdown",
      "metadata": {
        "id": "RJ0gAKoQLKN1"
      },
      "source": [
        "## Load the dataset"
      ]
    },
    {
      "cell_type": "markdown",
      "source": [
        "# Neuer Abschnitt"
      ],
      "metadata": {
        "id": "hexdo2h70nBi"
      }
    },
    {
      "cell_type": "code",
      "metadata": {
        "id": "n8YdLIWHTTkR"
      },
      "source": [
        "import pandas as pd"
      ],
      "execution_count": 1,
      "outputs": []
    },
    {
      "cell_type": "code",
      "metadata": {
        "id": "xG_yK_mQ8jT9"
      },
      "source": [
        "dataset = pd.read_csv('credit_data.csv')"
      ],
      "execution_count": 2,
      "outputs": []
    },
    {
      "cell_type": "code",
      "metadata": {
        "id": "8S6qiAut8xgw",
        "colab": {
          "base_uri": "https://localhost:8080/",
          "height": 206
        },
        "outputId": "98dc7aef-0e36-431b-9c3c-ac4d2a4df651"
      },
      "source": [
        "dataset.head()"
      ],
      "execution_count": 3,
      "outputs": [
        {
          "output_type": "execute_result",
          "data": {
            "text/plain": [
              "   i#clientid        income        age         loan  c#default\n",
              "0           1  66155.925095  59.017015  8106.532131          0\n",
              "1           2  34415.153966  48.117153  6564.745018          0\n",
              "2           3  57317.170063  63.108049  8020.953296          0\n",
              "3           4  42709.534201  45.751972  6103.642260          0\n",
              "4           5  66952.688845  18.584336  8770.099235          1"
            ],
            "text/html": [
              "\n",
              "  <div id=\"df-d484e92c-a578-40b3-9023-88a265489415\">\n",
              "    <div class=\"colab-df-container\">\n",
              "      <div>\n",
              "<style scoped>\n",
              "    .dataframe tbody tr th:only-of-type {\n",
              "        vertical-align: middle;\n",
              "    }\n",
              "\n",
              "    .dataframe tbody tr th {\n",
              "        vertical-align: top;\n",
              "    }\n",
              "\n",
              "    .dataframe thead th {\n",
              "        text-align: right;\n",
              "    }\n",
              "</style>\n",
              "<table border=\"1\" class=\"dataframe\">\n",
              "  <thead>\n",
              "    <tr style=\"text-align: right;\">\n",
              "      <th></th>\n",
              "      <th>i#clientid</th>\n",
              "      <th>income</th>\n",
              "      <th>age</th>\n",
              "      <th>loan</th>\n",
              "      <th>c#default</th>\n",
              "    </tr>\n",
              "  </thead>\n",
              "  <tbody>\n",
              "    <tr>\n",
              "      <th>0</th>\n",
              "      <td>1</td>\n",
              "      <td>66155.925095</td>\n",
              "      <td>59.017015</td>\n",
              "      <td>8106.532131</td>\n",
              "      <td>0</td>\n",
              "    </tr>\n",
              "    <tr>\n",
              "      <th>1</th>\n",
              "      <td>2</td>\n",
              "      <td>34415.153966</td>\n",
              "      <td>48.117153</td>\n",
              "      <td>6564.745018</td>\n",
              "      <td>0</td>\n",
              "    </tr>\n",
              "    <tr>\n",
              "      <th>2</th>\n",
              "      <td>3</td>\n",
              "      <td>57317.170063</td>\n",
              "      <td>63.108049</td>\n",
              "      <td>8020.953296</td>\n",
              "      <td>0</td>\n",
              "    </tr>\n",
              "    <tr>\n",
              "      <th>3</th>\n",
              "      <td>4</td>\n",
              "      <td>42709.534201</td>\n",
              "      <td>45.751972</td>\n",
              "      <td>6103.642260</td>\n",
              "      <td>0</td>\n",
              "    </tr>\n",
              "    <tr>\n",
              "      <th>4</th>\n",
              "      <td>5</td>\n",
              "      <td>66952.688845</td>\n",
              "      <td>18.584336</td>\n",
              "      <td>8770.099235</td>\n",
              "      <td>1</td>\n",
              "    </tr>\n",
              "  </tbody>\n",
              "</table>\n",
              "</div>\n",
              "      <button class=\"colab-df-convert\" onclick=\"convertToInteractive('df-d484e92c-a578-40b3-9023-88a265489415')\"\n",
              "              title=\"Convert this dataframe to an interactive table.\"\n",
              "              style=\"display:none;\">\n",
              "        \n",
              "  <svg xmlns=\"http://www.w3.org/2000/svg\" height=\"24px\"viewBox=\"0 0 24 24\"\n",
              "       width=\"24px\">\n",
              "    <path d=\"M0 0h24v24H0V0z\" fill=\"none\"/>\n",
              "    <path d=\"M18.56 5.44l.94 2.06.94-2.06 2.06-.94-2.06-.94-.94-2.06-.94 2.06-2.06.94zm-11 1L8.5 8.5l.94-2.06 2.06-.94-2.06-.94L8.5 2.5l-.94 2.06-2.06.94zm10 10l.94 2.06.94-2.06 2.06-.94-2.06-.94-.94-2.06-.94 2.06-2.06.94z\"/><path d=\"M17.41 7.96l-1.37-1.37c-.4-.4-.92-.59-1.43-.59-.52 0-1.04.2-1.43.59L10.3 9.45l-7.72 7.72c-.78.78-.78 2.05 0 2.83L4 21.41c.39.39.9.59 1.41.59.51 0 1.02-.2 1.41-.59l7.78-7.78 2.81-2.81c.8-.78.8-2.07 0-2.86zM5.41 20L4 18.59l7.72-7.72 1.47 1.35L5.41 20z\"/>\n",
              "  </svg>\n",
              "      </button>\n",
              "      \n",
              "  <style>\n",
              "    .colab-df-container {\n",
              "      display:flex;\n",
              "      flex-wrap:wrap;\n",
              "      gap: 12px;\n",
              "    }\n",
              "\n",
              "    .colab-df-convert {\n",
              "      background-color: #E8F0FE;\n",
              "      border: none;\n",
              "      border-radius: 50%;\n",
              "      cursor: pointer;\n",
              "      display: none;\n",
              "      fill: #1967D2;\n",
              "      height: 32px;\n",
              "      padding: 0 0 0 0;\n",
              "      width: 32px;\n",
              "    }\n",
              "\n",
              "    .colab-df-convert:hover {\n",
              "      background-color: #E2EBFA;\n",
              "      box-shadow: 0px 1px 2px rgba(60, 64, 67, 0.3), 0px 1px 3px 1px rgba(60, 64, 67, 0.15);\n",
              "      fill: #174EA6;\n",
              "    }\n",
              "\n",
              "    [theme=dark] .colab-df-convert {\n",
              "      background-color: #3B4455;\n",
              "      fill: #D2E3FC;\n",
              "    }\n",
              "\n",
              "    [theme=dark] .colab-df-convert:hover {\n",
              "      background-color: #434B5C;\n",
              "      box-shadow: 0px 1px 3px 1px rgba(0, 0, 0, 0.15);\n",
              "      filter: drop-shadow(0px 1px 2px rgba(0, 0, 0, 0.3));\n",
              "      fill: #FFFFFF;\n",
              "    }\n",
              "  </style>\n",
              "\n",
              "      <script>\n",
              "        const buttonEl =\n",
              "          document.querySelector('#df-d484e92c-a578-40b3-9023-88a265489415 button.colab-df-convert');\n",
              "        buttonEl.style.display =\n",
              "          google.colab.kernel.accessAllowed ? 'block' : 'none';\n",
              "\n",
              "        async function convertToInteractive(key) {\n",
              "          const element = document.querySelector('#df-d484e92c-a578-40b3-9023-88a265489415');\n",
              "          const dataTable =\n",
              "            await google.colab.kernel.invokeFunction('convertToInteractive',\n",
              "                                                     [key], {});\n",
              "          if (!dataTable) return;\n",
              "\n",
              "          const docLinkHtml = 'Like what you see? Visit the ' +\n",
              "            '<a target=\"_blank\" href=https://colab.research.google.com/notebooks/data_table.ipynb>data table notebook</a>'\n",
              "            + ' to learn more about interactive tables.';\n",
              "          element.innerHTML = '';\n",
              "          dataTable['output_type'] = 'display_data';\n",
              "          await google.colab.output.renderOutput(dataTable, element);\n",
              "          const docLink = document.createElement('div');\n",
              "          docLink.innerHTML = docLinkHtml;\n",
              "          element.appendChild(docLink);\n",
              "        }\n",
              "      </script>\n",
              "    </div>\n",
              "  </div>\n",
              "  "
            ]
          },
          "metadata": {},
          "execution_count": 3
        }
      ]
    },
    {
      "cell_type": "code",
      "metadata": {
        "id": "w-iQPuUR9puI",
        "colab": {
          "base_uri": "https://localhost:8080/"
        },
        "outputId": "9677f29c-6906-403a-cd5d-59d0eb6cb9ec"
      },
      "source": [
        "dataset.shape"
      ],
      "execution_count": 4,
      "outputs": [
        {
          "output_type": "execute_result",
          "data": {
            "text/plain": [
              "(2000, 5)"
            ]
          },
          "metadata": {},
          "execution_count": 4
        }
      ]
    },
    {
      "cell_type": "code",
      "metadata": {
        "id": "7EbuBMuNDDJe",
        "colab": {
          "base_uri": "https://localhost:8080/"
        },
        "outputId": "e81ae359-f374-4da3-b943-ebd286f65f6e"
      },
      "source": [
        "dataset.isna().sum()"
      ],
      "execution_count": 5,
      "outputs": [
        {
          "output_type": "execute_result",
          "data": {
            "text/plain": [
              "i#clientid    0\n",
              "income        0\n",
              "age           3\n",
              "loan          0\n",
              "c#default     0\n",
              "dtype: int64"
            ]
          },
          "metadata": {},
          "execution_count": 5
        }
      ]
    },
    {
      "cell_type": "code",
      "metadata": {
        "id": "LTaUvVAu9tlW",
        "colab": {
          "base_uri": "https://localhost:8080/"
        },
        "outputId": "eed8e30a-7547-4600-a58a-ab546d784df0"
      },
      "source": [
        "dataset = dataset.dropna()\n",
        "dataset.shape"
      ],
      "execution_count": 6,
      "outputs": [
        {
          "output_type": "execute_result",
          "data": {
            "text/plain": [
              "(1997, 5)"
            ]
          },
          "metadata": {},
          "execution_count": 6
        }
      ]
    },
    {
      "cell_type": "code",
      "metadata": {
        "id": "f2skWGpBUZ8I"
      },
      "source": [
        "inputs = dataset.iloc[:, 1:4].values"
      ],
      "execution_count": 7,
      "outputs": []
    },
    {
      "cell_type": "code",
      "metadata": {
        "id": "qajG79RGEAMA",
        "colab": {
          "base_uri": "https://localhost:8080/",
          "height": 134
        },
        "outputId": "07b8c0b8-e4dd-4f33-c515-51d23a471124"
      },
      "source": [
        "inputs"
      ],
      "execution_count": null,
      "outputs": [
        {
          "output_type": "execute_result",
          "data": {
            "text/plain": [
              "array([[6.61559251e+04, 5.90170151e+01, 8.10653213e+03],\n",
              "       [3.44151540e+04, 4.81171531e+01, 6.56474502e+03],\n",
              "       [5.73171701e+04, 6.31080495e+01, 8.02095330e+03],\n",
              "       ...,\n",
              "       [4.43114493e+04, 2.80171669e+01, 5.52278669e+03],\n",
              "       [4.37560566e+04, 6.39717958e+01, 1.62272260e+03],\n",
              "       [6.94365796e+04, 5.61526170e+01, 7.37883360e+03]])"
            ]
          },
          "metadata": {
            "tags": []
          },
          "execution_count": 8
        }
      ]
    },
    {
      "cell_type": "code",
      "metadata": {
        "id": "Qof28fsuUhvt",
        "colab": {
          "base_uri": "https://localhost:8080/"
        },
        "outputId": "0610708b-c6d6-4dd3-dd2c-893028bd8782"
      },
      "source": [
        "len(inputs)"
      ],
      "execution_count": 8,
      "outputs": [
        {
          "output_type": "execute_result",
          "data": {
            "text/plain": [
              "1997"
            ]
          },
          "metadata": {},
          "execution_count": 8
        }
      ]
    },
    {
      "cell_type": "code",
      "metadata": {
        "id": "TSq4FWajUkIr",
        "colab": {
          "base_uri": "https://localhost:8080/"
        },
        "outputId": "742c3bff-a2ba-4031-cccc-cb250c2e4a38"
      },
      "source": [
        "inputs.shape"
      ],
      "execution_count": 9,
      "outputs": [
        {
          "output_type": "execute_result",
          "data": {
            "text/plain": [
              "(1997, 3)"
            ]
          },
          "metadata": {},
          "execution_count": 9
        }
      ]
    },
    {
      "cell_type": "code",
      "metadata": {
        "id": "KUrbx7tRFPsz",
        "colab": {
          "base_uri": "https://localhost:8080/"
        },
        "outputId": "3a755fdd-0f14-4798-fb0c-f55f8429338b"
      },
      "source": [
        "max(inputs[0])"
      ],
      "execution_count": 10,
      "outputs": [
        {
          "output_type": "execute_result",
          "data": {
            "text/plain": [
              "66155.9250950813"
            ]
          },
          "metadata": {},
          "execution_count": 10
        }
      ]
    },
    {
      "cell_type": "code",
      "metadata": {
        "id": "fvmWeKqh_Bi0"
      },
      "source": [
        "from sklearn.preprocessing import MinMaxScaler\n",
        "scaler = MinMaxScaler()\n",
        "inputs = scaler.fit_transform(inputs)"
      ],
      "execution_count": 11,
      "outputs": []
    },
    {
      "cell_type": "code",
      "metadata": {
        "id": "9Z6Fo-gj_chZ",
        "colab": {
          "base_uri": "https://localhost:8080/"
        },
        "outputId": "8d8e66b5-4b90-44c0-ba83-334d103ade69"
      },
      "source": [
        "max(inputs[0]), min(inputs[0])"
      ],
      "execution_count": 12,
      "outputs": [
        {
          "output_type": "execute_result",
          "data": {
            "text/plain": [
              "(0.9574313540172936, 0.5888373913898218)"
            ]
          },
          "metadata": {},
          "execution_count": 12
        }
      ]
    },
    {
      "cell_type": "code",
      "metadata": {
        "id": "Xl-NML98UrCy",
        "colab": {
          "base_uri": "https://localhost:8080/"
        },
        "outputId": "91bb6e2f-8856-4c55-f415-52cb992a90c8"
      },
      "source": [
        "outputs = dataset.iloc[:, 4].values\n",
        "outputs"
      ],
      "execution_count": 13,
      "outputs": [
        {
          "output_type": "execute_result",
          "data": {
            "text/plain": [
              "array([0, 0, 0, ..., 1, 0, 0])"
            ]
          },
          "metadata": {},
          "execution_count": 13
        }
      ]
    },
    {
      "cell_type": "code",
      "metadata": {
        "id": "fL6lmqrJUxch",
        "colab": {
          "base_uri": "https://localhost:8080/"
        },
        "outputId": "9351e23a-6a3b-41eb-d8f8-2d286c9d82a4"
      },
      "source": [
        "len(outputs)"
      ],
      "execution_count": 14,
      "outputs": [
        {
          "output_type": "execute_result",
          "data": {
            "text/plain": [
              "1997"
            ]
          },
          "metadata": {},
          "execution_count": 14
        }
      ]
    },
    {
      "cell_type": "code",
      "metadata": {
        "id": "Wk0z7OehU7Bz",
        "colab": {
          "base_uri": "https://localhost:8080/"
        },
        "outputId": "1ea8f48d-80fe-41d1-820e-dce81a1c8cf3"
      },
      "source": [
        "outputs.shape"
      ],
      "execution_count": 15,
      "outputs": [
        {
          "output_type": "execute_result",
          "data": {
            "text/plain": [
              "(1997,)"
            ]
          },
          "metadata": {},
          "execution_count": 15
        }
      ]
    },
    {
      "cell_type": "code",
      "metadata": {
        "id": "pU7k8jU8VETU",
        "colab": {
          "base_uri": "https://localhost:8080/"
        },
        "outputId": "fde106dc-7603-4f43-94c3-00d399821982"
      },
      "source": [
        "outputs = outputs.reshape(-1, 1)\n",
        "outputs.shape"
      ],
      "execution_count": 16,
      "outputs": [
        {
          "output_type": "execute_result",
          "data": {
            "text/plain": [
              "(1997, 1)"
            ]
          },
          "metadata": {},
          "execution_count": 16
        }
      ]
    },
    {
      "cell_type": "markdown",
      "metadata": {
        "id": "rePSOzWyPIJ2"
      },
      "source": [
        "## Complete neural network"
      ]
    },
    {
      "cell_type": "code",
      "metadata": {
        "id": "-PVNc3G2_zJK",
        "colab": {
          "base_uri": "https://localhost:8080/"
        },
        "outputId": "742af71d-14dc-43c8-9a91-9a3cba4ef5c8"
      },
      "source": [
        "(3 + 1) / 2"
      ],
      "execution_count": 17,
      "outputs": [
        {
          "output_type": "execute_result",
          "data": {
            "text/plain": [
              "2.0"
            ]
          },
          "metadata": {},
          "execution_count": 17
        }
      ]
    },
    {
      "cell_type": "code",
      "metadata": {
        "id": "SbyCAmxnSAyP"
      },
      "source": [
        "import numpy as np\n",
        "\n",
        "def sigmoid(sum):\n",
        "  return 1 / (1 + np.exp(-sum))\n",
        "\n",
        "def sigmoid_derivative(sigmoid):\n",
        "  return sigmoid * (1 - sigmoid)\n",
        "\n",
        "weights0 = 2 * np.random.random((3, 10)) - 1\n",
        "weights1 = 2 * np.random.random((10,1)) - 1"
      ],
      "execution_count": 18,
      "outputs": []
    },
    {
      "cell_type": "code",
      "metadata": {
        "id": "GG-_2UpPPKw1",
        "colab": {
          "base_uri": "https://localhost:8080/"
        },
        "outputId": "7978af7e-5522-4ad7-81ad-a334034c4018"
      },
      "source": [
        "epochs = 10000\n",
        "learning_rate = 0.01\n",
        "\n",
        "error = []\n",
        "\n",
        "for epoch in range(epochs):\n",
        "  input_layer = inputs\n",
        "  sum_synapse0 = np.dot(input_layer, weights0)\n",
        "  hidden_layer = sigmoid(sum_synapse0)\n",
        "\n",
        "  sum_synapse1 = np.dot(hidden_layer, weights1)\n",
        "  output_layer = sigmoid(sum_synapse1)\n",
        "\n",
        "  error_output_layer = outputs - output_layer\n",
        "  average = np.mean(abs(error_output_layer))\n",
        "  \n",
        "  if epoch % 1000 == 0:\n",
        "    print('Epoch: ' + str(epoch + 1) + ' Error: ' + str(average))\n",
        "    error.append(average)\n",
        "  \n",
        "  derivative_output = sigmoid_derivative(output_layer)\n",
        "  delta_output = error_output_layer * derivative_output\n",
        "  \n",
        "  weights1T = weights1.T\n",
        "  delta_output_weight = delta_output.dot(weights1T)\n",
        "  delta_hidden_layer = delta_output_weight * sigmoid_derivative(hidden_layer)\n",
        "  \n",
        "  hidden_layerT = hidden_layer.T\n",
        "  input_x_delta1 = hidden_layerT.dot(delta_output)\n",
        "  weights1 = weights1 + (input_x_delta1 * learning_rate)\n",
        "  \n",
        "  input_layerT = input_layer.T\n",
        "  input_x_delta0 = input_layerT.dot(delta_hidden_layer)\n",
        "  weights0 = weights0 + (input_x_delta0 * learning_rate)"
      ],
      "execution_count": 19,
      "outputs": [
        {
          "output_type": "stream",
          "name": "stdout",
          "text": [
            "Epoch: 1 Error: 0.7013057176711561\n",
            "Epoch: 1001 Error: 0.11772662044064734\n",
            "Epoch: 2001 Error: 0.09985815168579937\n",
            "Epoch: 3001 Error: 0.09263542400142866\n",
            "Epoch: 4001 Error: 0.08833070223337645\n",
            "Epoch: 5001 Error: 0.08545340231769696\n",
            "Epoch: 6001 Error: 0.08345028528178026\n",
            "Epoch: 7001 Error: 0.08201714408354971\n",
            "Epoch: 8001 Error: 0.08096707742732517\n",
            "Epoch: 9001 Error: 0.08018142314840447\n"
          ]
        }
      ]
    },
    {
      "cell_type": "code",
      "metadata": {
        "id": "LCSVOxKhTR87",
        "colab": {
          "base_uri": "https://localhost:8080/",
          "height": 296
        },
        "outputId": "a23bd23c-8456-4bee-e388-775e3d6fce04"
      },
      "source": [
        "import matplotlib.pyplot as plt\n",
        "plt.xlabel('Epochs')\n",
        "plt.ylabel('Error')\n",
        "plt.plot(error)"
      ],
      "execution_count": 20,
      "outputs": [
        {
          "output_type": "execute_result",
          "data": {
            "text/plain": [
              "[<matplotlib.lines.Line2D at 0x7f626d8d20d0>]"
            ]
          },
          "metadata": {},
          "execution_count": 20
        },
        {
          "output_type": "display_data",
          "data": {
            "text/plain": [
              "<Figure size 432x288 with 1 Axes>"
            ],
            "image/png": "[encoded data removed]"
          },
          "metadata": {
            "needs_background": "light"
          }
        }
      ]
    },
    {
      "cell_type": "code",
      "metadata": {
        "id": "FIzCd1JpWOKM"
      },
      "source": [
        "def calculate_output(instance):\n",
        "  hidden_layer = sigmoid(np.dot(instance, weights0))\n",
        "  output_layer = sigmoid(np.dot(hidden_layer, weights1))\n",
        "  return output_layer[0]"
      ],
      "execution_count": 21,
      "outputs": []
    },
    {
      "cell_type": "code",
      "metadata": {
        "id": "Ju6NyIfmYHNJ",
        "colab": {
          "base_uri": "https://localhost:8080/"
        },
        "outputId": "d0170802-2e27-44c1-8d06-2c8200bdac62"
      },
      "source": [
        "inputs[0], outputs[0]"
      ],
      "execution_count": 22,
      "outputs": [
        {
          "output_type": "execute_result",
          "data": {
            "text/plain": [
              "(array([0.9231759 , 0.95743135, 0.58883739]), array([0]))"
            ]
          },
          "metadata": {},
          "execution_count": 22
        }
      ]
    },
    {
      "cell_type": "code",
      "metadata": {
        "id": "0DFwbXNiYPbR",
        "colab": {
          "base_uri": "https://localhost:8080/"
        },
        "outputId": "a0183ae8-c9ef-41d9-d5ad-c6d79cf5fa50"
      },
      "source": [
        "round(calculate_output(inputs[0]))"
      ],
      "execution_count": 23,
      "outputs": [
        {
          "output_type": "execute_result",
          "data": {
            "text/plain": [
              "0"
            ]
          },
          "metadata": {},
          "execution_count": 23
        }
      ]
    },
    {
      "cell_type": "code",
      "metadata": {
        "id": "GzduzsuRYumR",
        "colab": {
          "base_uri": "https://localhost:8080/"
        },
        "outputId": "595c6935-386b-4399-b73c-dbe27962b679"
      },
      "source": [
        "inputs[4], outputs[4]"
      ],
      "execution_count": 24,
      "outputs": [
        {
          "output_type": "execute_result",
          "data": {
            "text/plain": [
              "(array([0.93911717, 0.61005687, 0.63704537]), array([1]))"
            ]
          },
          "metadata": {},
          "execution_count": 24
        }
      ]
    },
    {
      "cell_type": "code",
      "metadata": {
        "id": "h_n2jtyRY187",
        "colab": {
          "base_uri": "https://localhost:8080/"
        },
        "outputId": "c5a83784-b2d5-4ee8-9232-bf7a66552935"
      },
      "source": [
        "round(calculate_output(inputs[4]))"
      ],
      "execution_count": 25,
      "outputs": [
        {
          "output_type": "execute_result",
          "data": {
            "text/plain": [
              "1"
            ]
          },
          "metadata": {},
          "execution_count": 25
        }
      ]
    },
    {
      "cell_type": "markdown",
      "source": [
        "**Our Neural Network model has correctly predicted customers who would pay(0) and who wouldn't pay(1).**"
      ],
      "metadata": {
        "id": "htWIg5gf6XWi"
      }
    }
  ]
}